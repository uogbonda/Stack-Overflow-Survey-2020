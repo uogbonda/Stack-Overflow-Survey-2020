{
 "cells": [
  {
   "cell_type": "markdown",
   "id": "ae943dae",
   "metadata": {
    "id": "vz8JGL_I0_LW"
   },
   "source": [
    "# Stack Overflow Survey 2020\n",
    "\n",
    "\n",
    "We analyze the Stack Overflow survey for Germany. It contains over 3890 respondents from developers, analysts, data scientists.\n",
    "\n",
    "- you can download it [here](https://insights.stackoverflow.com/survey)\n",
    "- get insights [here](https://insights.stackoverflow.com/survey/2020)\n",
    "\n",
    "The dataset is an option for the final project.\n",
    "\n",
    "\n",
    "Questions:\n",
    "- What kind of information does the survey contain? \n",
    "- Which variables are particularly interesting to you and why? \n",
    "- Analyze the salary and how different variables are correlating with it."
   ]
  },
  {
   "cell_type": "markdown",
   "id": "f1eb2e3a",
   "metadata": {
    "id": "879n5VyBjeVy"
   },
   "source": [
    "<font color='green'>Step 1: Goal!\n",
    "- see https://towardsdatascience.com/how-to-perform-exploratory-data-analysis-with-seaborn-97e3413e841d from ref. (2)\n",
    "- think in terms of statistical plan (multiple comparisons problem)\n",
    "</font>"
   ]
  },
  {
   "cell_type": "code",
   "execution_count": 1,
   "id": "82970c4b",
   "metadata": {
    "id": "torzarjS1Jxw"
   },
   "outputs": [],
   "source": [
    "import pandas as pd\n",
    "import numpy as np\n",
    "import seaborn as sns\n",
    "import matplotlib as plt\n",
    "from sklearn.decomposition import PCA"
   ]
  },
  {
   "cell_type": "markdown",
   "id": "9a93c9b6",
   "metadata": {
    "id": "inh4STax2z6-"
   },
   "source": [
    "# Query the data from the Database"
   ]
  },
  {
   "cell_type": "markdown",
   "id": "9ce84709",
   "metadata": {
    "id": "WirIrLy3lcKH"
   },
   "source": [
    "<font color='green'>Step 2: Get the data\n",
    "- see ref (1), but get ready for anything including a whole PhD. May be ask IT/the dev.Team, about apparently unsurmountable obstacles.\n",
    "</font> "
   ]
  },
  {
   "cell_type": "code",
   "execution_count": 2,
   "id": "27fb0c79",
   "metadata": {
    "id": "s-WZ_xVn2vPb"
   },
   "outputs": [
    {
     "data": {
      "text/html": [
       "<div>\n",
       "<style scoped>\n",
       "    .dataframe tbody tr th:only-of-type {\n",
       "        vertical-align: middle;\n",
       "    }\n",
       "\n",
       "    .dataframe tbody tr th {\n",
       "        vertical-align: top;\n",
       "    }\n",
       "\n",
       "    .dataframe thead th {\n",
       "        text-align: right;\n",
       "    }\n",
       "</style>\n",
       "<table border=\"1\" class=\"dataframe\">\n",
       "  <thead>\n",
       "    <tr style=\"text-align: right;\">\n",
       "      <th></th>\n",
       "      <th>ResponseId</th>\n",
       "      <th>MainBranch</th>\n",
       "      <th>Employment</th>\n",
       "      <th>Country</th>\n",
       "      <th>US_State</th>\n",
       "      <th>UK_Country</th>\n",
       "      <th>EdLevel</th>\n",
       "      <th>Age1stCode</th>\n",
       "      <th>LearnCode</th>\n",
       "      <th>YearsCode</th>\n",
       "      <th>...</th>\n",
       "      <th>Age</th>\n",
       "      <th>Gender</th>\n",
       "      <th>Trans</th>\n",
       "      <th>Sexuality</th>\n",
       "      <th>Ethnicity</th>\n",
       "      <th>Accessibility</th>\n",
       "      <th>MentalHealth</th>\n",
       "      <th>SurveyLength</th>\n",
       "      <th>SurveyEase</th>\n",
       "      <th>ConvertedCompYearly</th>\n",
       "    </tr>\n",
       "  </thead>\n",
       "  <tbody>\n",
       "    <tr>\n",
       "      <th>0</th>\n",
       "      <td>1</td>\n",
       "      <td>I am a developer by profession</td>\n",
       "      <td>Independent contractor, freelancer, or self-em...</td>\n",
       "      <td>Slovakia</td>\n",
       "      <td>NaN</td>\n",
       "      <td>NaN</td>\n",
       "      <td>Secondary school (e.g. American high school, G...</td>\n",
       "      <td>18 - 24 years</td>\n",
       "      <td>Coding Bootcamp;Other online resources (ex: vi...</td>\n",
       "      <td>NaN</td>\n",
       "      <td>...</td>\n",
       "      <td>25-34 years old</td>\n",
       "      <td>Man</td>\n",
       "      <td>No</td>\n",
       "      <td>Straight / Heterosexual</td>\n",
       "      <td>White or of European descent</td>\n",
       "      <td>None of the above</td>\n",
       "      <td>None of the above</td>\n",
       "      <td>Appropriate in length</td>\n",
       "      <td>Easy</td>\n",
       "      <td>62268.0</td>\n",
       "    </tr>\n",
       "    <tr>\n",
       "      <th>1</th>\n",
       "      <td>2</td>\n",
       "      <td>I am a student who is learning to code</td>\n",
       "      <td>Student, full-time</td>\n",
       "      <td>Netherlands</td>\n",
       "      <td>NaN</td>\n",
       "      <td>NaN</td>\n",
       "      <td>Bachelor’s degree (B.A., B.S., B.Eng., etc.)</td>\n",
       "      <td>11 - 17 years</td>\n",
       "      <td>Other online resources (ex: videos, blogs, etc...</td>\n",
       "      <td>7</td>\n",
       "      <td>...</td>\n",
       "      <td>18-24 years old</td>\n",
       "      <td>Man</td>\n",
       "      <td>No</td>\n",
       "      <td>Straight / Heterosexual</td>\n",
       "      <td>White or of European descent</td>\n",
       "      <td>None of the above</td>\n",
       "      <td>None of the above</td>\n",
       "      <td>Appropriate in length</td>\n",
       "      <td>Easy</td>\n",
       "      <td>NaN</td>\n",
       "    </tr>\n",
       "  </tbody>\n",
       "</table>\n",
       "<p>2 rows × 48 columns</p>\n",
       "</div>"
      ],
      "text/plain": [
       "   ResponseId                              MainBranch  \\\n",
       "0           1          I am a developer by profession   \n",
       "1           2  I am a student who is learning to code   \n",
       "\n",
       "                                          Employment      Country US_State  \\\n",
       "0  Independent contractor, freelancer, or self-em...     Slovakia      NaN   \n",
       "1                                 Student, full-time  Netherlands      NaN   \n",
       "\n",
       "  UK_Country                                            EdLevel  \\\n",
       "0        NaN  Secondary school (e.g. American high school, G...   \n",
       "1        NaN       Bachelor’s degree (B.A., B.S., B.Eng., etc.)   \n",
       "\n",
       "      Age1stCode                                          LearnCode YearsCode  \\\n",
       "0  18 - 24 years  Coding Bootcamp;Other online resources (ex: vi...       NaN   \n",
       "1  11 - 17 years  Other online resources (ex: videos, blogs, etc...         7   \n",
       "\n",
       "   ...              Age Gender Trans                Sexuality  \\\n",
       "0  ...  25-34 years old    Man    No  Straight / Heterosexual   \n",
       "1  ...  18-24 years old    Man    No  Straight / Heterosexual   \n",
       "\n",
       "                      Ethnicity      Accessibility       MentalHealth  \\\n",
       "0  White or of European descent  None of the above  None of the above   \n",
       "1  White or of European descent  None of the above  None of the above   \n",
       "\n",
       "            SurveyLength SurveyEase ConvertedCompYearly  \n",
       "0  Appropriate in length       Easy             62268.0  \n",
       "1  Appropriate in length       Easy                 NaN  \n",
       "\n",
       "[2 rows x 48 columns]"
      ]
     },
     "execution_count": 2,
     "metadata": {},
     "output_type": "execute_result"
    }
   ],
   "source": [
    "df_survey=pd.read_csv(r'C:\\Users\\Uyoyo\\Desktop\\survey_results_public.csv')\n",
    "df_survey.head(2)"
   ]
  },
  {
   "cell_type": "code",
   "execution_count": 3,
   "id": "a376e86b",
   "metadata": {
    "id": "HWd2dxAt003L"
   },
   "outputs": [
    {
     "data": {
      "text/plain": [
       "(83439, 48)"
      ]
     },
     "execution_count": 3,
     "metadata": {},
     "output_type": "execute_result"
    }
   ],
   "source": [
    "df_survey.shape"
   ]
  },
  {
   "cell_type": "code",
   "execution_count": 4,
   "id": "11af1589",
   "metadata": {
    "id": "fzHxcDeR0898"
   },
   "outputs": [
    {
     "name": "stdout",
     "output_type": "stream",
     "text": [
      "<class 'pandas.core.frame.DataFrame'>\n",
      "RangeIndex: 83439 entries, 0 to 83438\n",
      "Data columns (total 48 columns):\n",
      " #   Column                        Non-Null Count  Dtype  \n",
      "---  ------                        --------------  -----  \n",
      " 0   ResponseId                    83439 non-null  int64  \n",
      " 1   MainBranch                    83439 non-null  object \n",
      " 2   Employment                    83323 non-null  object \n",
      " 3   Country                       83439 non-null  object \n",
      " 4   US_State                      14920 non-null  object \n",
      " 5   UK_Country                    4418 non-null   object \n",
      " 6   EdLevel                       83126 non-null  object \n",
      " 7   Age1stCode                    83243 non-null  object \n",
      " 8   LearnCode                     82963 non-null  object \n",
      " 9   YearsCode                     81641 non-null  object \n",
      " 10  YearsCodePro                  61216 non-null  object \n",
      " 11  DevType                       66484 non-null  object \n",
      " 12  OrgSize                       60726 non-null  object \n",
      " 13  Currency                      61080 non-null  object \n",
      " 14  CompTotal                     47183 non-null  float64\n",
      " 15  CompFreq                      52150 non-null  object \n",
      " 16  LanguageHaveWorkedWith        82357 non-null  object \n",
      " 17  LanguageWantToWorkWith        76821 non-null  object \n",
      " 18  DatabaseHaveWorkedWith        69546 non-null  object \n",
      " 19  DatabaseWantToWorkWith        58299 non-null  object \n",
      " 20  PlatformHaveWorkedWith        52135 non-null  object \n",
      " 21  PlatformWantToWorkWith        41619 non-null  object \n",
      " 22  WebframeHaveWorkedWith        61707 non-null  object \n",
      " 23  WebframeWantToWorkWith        52095 non-null  object \n",
      " 24  MiscTechHaveWorkedWith        47055 non-null  object \n",
      " 25  MiscTechWantToWorkWith        38021 non-null  object \n",
      " 26  ToolsTechHaveWorkedWith       72537 non-null  object \n",
      " 27  ToolsTechWantToWorkWith       65480 non-null  object \n",
      " 28  NEWCollabToolsHaveWorkedWith  81234 non-null  object \n",
      " 29  NEWCollabToolsWantToWorkWith  73022 non-null  object \n",
      " 30  OpSys                         83294 non-null  object \n",
      " 31  NEWStuck                      83052 non-null  object \n",
      " 32  NEWSOSites                    83171 non-null  object \n",
      " 33  SOVisitFreq                   82413 non-null  object \n",
      " 34  SOAccount                     82525 non-null  object \n",
      " 35  SOPartFreq                    67553 non-null  object \n",
      " 36  SOComm                        82319 non-null  object \n",
      " 37  NEWOtherComms                 82828 non-null  object \n",
      " 38  Age                           82407 non-null  object \n",
      " 39  Gender                        82286 non-null  object \n",
      " 40  Trans                         80678 non-null  object \n",
      " 41  Sexuality                     73366 non-null  object \n",
      " 42  Ethnicity                     79464 non-null  object \n",
      " 43  Accessibility                 77603 non-null  object \n",
      " 44  MentalHealth                  76920 non-null  object \n",
      " 45  SurveyLength                  81711 non-null  object \n",
      " 46  SurveyEase                    81948 non-null  object \n",
      " 47  ConvertedCompYearly           46844 non-null  float64\n",
      "dtypes: float64(2), int64(1), object(45)\n",
      "memory usage: 30.6+ MB\n"
     ]
    }
   ],
   "source": [
    "df_survey.info()"
   ]
  },
  {
   "cell_type": "markdown",
   "id": "1beaeb50",
   "metadata": {
    "id": "FIxKWRiTjJf7"
   },
   "source": [
    "## Data cleaning\n",
    "\n",
    "No data missing.                        ## code to check missing data:-  df.isna().sum()"
   ]
  },
  {
   "cell_type": "code",
   "execution_count": 5,
   "id": "c48cd7b8",
   "metadata": {},
   "outputs": [],
   "source": [
    "#(df_survey.isnull().sum() / len(df)).sort_values(ascending = False)"
   ]
  },
  {
   "cell_type": "code",
   "execution_count": 6,
   "id": "d9779d1d",
   "metadata": {},
   "outputs": [],
   "source": [
    "#df_survey=df_survey.columns[1::]    ### I removed the column-ResponseID, i dont need it\n",
    "#df_survey.head()"
   ]
  },
  {
   "cell_type": "code",
   "execution_count": 7,
   "id": "ff4c1ef4",
   "metadata": {},
   "outputs": [
    {
     "data": {
      "text/plain": [
       "ResponseId                          0\n",
       "MainBranch                          0\n",
       "Employment                        116\n",
       "Country                             0\n",
       "US_State                        68519\n",
       "UK_Country                      79021\n",
       "EdLevel                           313\n",
       "Age1stCode                        196\n",
       "LearnCode                         476\n",
       "YearsCode                        1798\n",
       "YearsCodePro                    22223\n",
       "DevType                         16955\n",
       "OrgSize                         22713\n",
       "Currency                        22359\n",
       "CompTotal                       36256\n",
       "CompFreq                        31289\n",
       "LanguageHaveWorkedWith           1082\n",
       "LanguageWantToWorkWith           6618\n",
       "DatabaseHaveWorkedWith          13893\n",
       "DatabaseWantToWorkWith          25140\n",
       "PlatformHaveWorkedWith          31304\n",
       "PlatformWantToWorkWith          41820\n",
       "WebframeHaveWorkedWith          21732\n",
       "WebframeWantToWorkWith          31344\n",
       "MiscTechHaveWorkedWith          36384\n",
       "MiscTechWantToWorkWith          45418\n",
       "ToolsTechHaveWorkedWith         10902\n",
       "ToolsTechWantToWorkWith         17959\n",
       "NEWCollabToolsHaveWorkedWith     2205\n",
       "NEWCollabToolsWantToWorkWith    10417\n",
       "OpSys                             145\n",
       "NEWStuck                          387\n",
       "NEWSOSites                        268\n",
       "SOVisitFreq                      1026\n",
       "SOAccount                         914\n",
       "SOPartFreq                      15886\n",
       "SOComm                           1120\n",
       "NEWOtherComms                     611\n",
       "Age                              1032\n",
       "Gender                           1153\n",
       "Trans                            2761\n",
       "Sexuality                       10073\n",
       "Ethnicity                        3975\n",
       "Accessibility                    5836\n",
       "MentalHealth                     6519\n",
       "SurveyLength                     1728\n",
       "SurveyEase                       1491\n",
       "ConvertedCompYearly             36595\n",
       "dtype: int64"
      ]
     },
     "execution_count": 7,
     "metadata": {},
     "output_type": "execute_result"
    }
   ],
   "source": [
    "df_survey.isna().sum()"
   ]
  },
  {
   "cell_type": "markdown",
   "id": "48b07500",
   "metadata": {},
   "source": [
    "## A. Dropping columns that are not important for now.\n",
    "\n",
    "to answer questions just on occupation and skills, i dropped gender,sexuality and trans-(Are you transgender?).\n"
   ]
  },
  {
   "cell_type": "code",
   "execution_count": 8,
   "id": "9020d90b",
   "metadata": {},
   "outputs": [
    {
     "data": {
      "text/html": [
       "<div>\n",
       "<style scoped>\n",
       "    .dataframe tbody tr th:only-of-type {\n",
       "        vertical-align: middle;\n",
       "    }\n",
       "\n",
       "    .dataframe tbody tr th {\n",
       "        vertical-align: top;\n",
       "    }\n",
       "\n",
       "    .dataframe thead th {\n",
       "        text-align: right;\n",
       "    }\n",
       "</style>\n",
       "<table border=\"1\" class=\"dataframe\">\n",
       "  <thead>\n",
       "    <tr style=\"text-align: right;\">\n",
       "      <th></th>\n",
       "      <th>MainBranch</th>\n",
       "      <th>Employment</th>\n",
       "      <th>Country</th>\n",
       "      <th>US_State</th>\n",
       "      <th>UK_Country</th>\n",
       "      <th>EdLevel</th>\n",
       "      <th>Age1stCode</th>\n",
       "      <th>LearnCode</th>\n",
       "      <th>YearsCode</th>\n",
       "      <th>YearsCodePro</th>\n",
       "      <th>...</th>\n",
       "      <th>SOPartFreq</th>\n",
       "      <th>SOComm</th>\n",
       "      <th>NEWOtherComms</th>\n",
       "      <th>Age</th>\n",
       "      <th>Ethnicity</th>\n",
       "      <th>Accessibility</th>\n",
       "      <th>MentalHealth</th>\n",
       "      <th>SurveyLength</th>\n",
       "      <th>SurveyEase</th>\n",
       "      <th>ConvertedCompYearly</th>\n",
       "    </tr>\n",
       "  </thead>\n",
       "  <tbody>\n",
       "    <tr>\n",
       "      <th>0</th>\n",
       "      <td>I am a developer by profession</td>\n",
       "      <td>Independent contractor, freelancer, or self-em...</td>\n",
       "      <td>Slovakia</td>\n",
       "      <td>NaN</td>\n",
       "      <td>NaN</td>\n",
       "      <td>Secondary school (e.g. American high school, G...</td>\n",
       "      <td>18 - 24 years</td>\n",
       "      <td>Coding Bootcamp;Other online resources (ex: vi...</td>\n",
       "      <td>NaN</td>\n",
       "      <td>NaN</td>\n",
       "      <td>...</td>\n",
       "      <td>A few times per month or weekly</td>\n",
       "      <td>Yes, definitely</td>\n",
       "      <td>No</td>\n",
       "      <td>25-34 years old</td>\n",
       "      <td>White or of European descent</td>\n",
       "      <td>None of the above</td>\n",
       "      <td>None of the above</td>\n",
       "      <td>Appropriate in length</td>\n",
       "      <td>Easy</td>\n",
       "      <td>62268.0</td>\n",
       "    </tr>\n",
       "    <tr>\n",
       "      <th>1</th>\n",
       "      <td>I am a student who is learning to code</td>\n",
       "      <td>Student, full-time</td>\n",
       "      <td>Netherlands</td>\n",
       "      <td>NaN</td>\n",
       "      <td>NaN</td>\n",
       "      <td>Bachelor’s degree (B.A., B.S., B.Eng., etc.)</td>\n",
       "      <td>11 - 17 years</td>\n",
       "      <td>Other online resources (ex: videos, blogs, etc...</td>\n",
       "      <td>7</td>\n",
       "      <td>NaN</td>\n",
       "      <td>...</td>\n",
       "      <td>Daily or almost daily</td>\n",
       "      <td>Yes, definitely</td>\n",
       "      <td>No</td>\n",
       "      <td>18-24 years old</td>\n",
       "      <td>White or of European descent</td>\n",
       "      <td>None of the above</td>\n",
       "      <td>None of the above</td>\n",
       "      <td>Appropriate in length</td>\n",
       "      <td>Easy</td>\n",
       "      <td>NaN</td>\n",
       "    </tr>\n",
       "  </tbody>\n",
       "</table>\n",
       "<p>2 rows × 44 columns</p>\n",
       "</div>"
      ],
      "text/plain": [
       "                               MainBranch  \\\n",
       "0          I am a developer by profession   \n",
       "1  I am a student who is learning to code   \n",
       "\n",
       "                                          Employment      Country US_State  \\\n",
       "0  Independent contractor, freelancer, or self-em...     Slovakia      NaN   \n",
       "1                                 Student, full-time  Netherlands      NaN   \n",
       "\n",
       "  UK_Country                                            EdLevel  \\\n",
       "0        NaN  Secondary school (e.g. American high school, G...   \n",
       "1        NaN       Bachelor’s degree (B.A., B.S., B.Eng., etc.)   \n",
       "\n",
       "      Age1stCode                                          LearnCode YearsCode  \\\n",
       "0  18 - 24 years  Coding Bootcamp;Other online resources (ex: vi...       NaN   \n",
       "1  11 - 17 years  Other online resources (ex: videos, blogs, etc...         7   \n",
       "\n",
       "  YearsCodePro  ...                       SOPartFreq           SOComm  \\\n",
       "0          NaN  ...  A few times per month or weekly  Yes, definitely   \n",
       "1          NaN  ...            Daily or almost daily  Yes, definitely   \n",
       "\n",
       "  NEWOtherComms              Age                     Ethnicity  \\\n",
       "0            No  25-34 years old  White or of European descent   \n",
       "1            No  18-24 years old  White or of European descent   \n",
       "\n",
       "       Accessibility       MentalHealth           SurveyLength SurveyEase  \\\n",
       "0  None of the above  None of the above  Appropriate in length       Easy   \n",
       "1  None of the above  None of the above  Appropriate in length       Easy   \n",
       "\n",
       "  ConvertedCompYearly  \n",
       "0             62268.0  \n",
       "1                 NaN  \n",
       "\n",
       "[2 rows x 44 columns]"
      ]
     },
     "execution_count": 8,
     "metadata": {},
     "output_type": "execute_result"
    }
   ],
   "source": [
    "df=df_survey.drop(columns=['ResponseId','Gender','Sexuality','Trans'])\n",
    "df.head(2)\n"
   ]
  },
  {
   "cell_type": "code",
   "execution_count": 9,
   "id": "4c0068f3",
   "metadata": {},
   "outputs": [
    {
     "data": {
      "text/html": [
       "<div>\n",
       "<style scoped>\n",
       "    .dataframe tbody tr th:only-of-type {\n",
       "        vertical-align: middle;\n",
       "    }\n",
       "\n",
       "    .dataframe tbody tr th {\n",
       "        vertical-align: top;\n",
       "    }\n",
       "\n",
       "    .dataframe thead th {\n",
       "        text-align: right;\n",
       "    }\n",
       "</style>\n",
       "<table border=\"1\" class=\"dataframe\">\n",
       "  <thead>\n",
       "    <tr style=\"text-align: right;\">\n",
       "      <th></th>\n",
       "      <th>CompTotal</th>\n",
       "      <th>ConvertedCompYearly</th>\n",
       "    </tr>\n",
       "  </thead>\n",
       "  <tbody>\n",
       "    <tr>\n",
       "      <th>CompTotal</th>\n",
       "      <td>1.000000</td>\n",
       "      <td>0.148269</td>\n",
       "    </tr>\n",
       "    <tr>\n",
       "      <th>ConvertedCompYearly</th>\n",
       "      <td>0.148269</td>\n",
       "      <td>1.000000</td>\n",
       "    </tr>\n",
       "  </tbody>\n",
       "</table>\n",
       "</div>"
      ],
      "text/plain": [
       "                     CompTotal  ConvertedCompYearly\n",
       "CompTotal             1.000000             0.148269\n",
       "ConvertedCompYearly   0.148269             1.000000"
      ]
     },
     "execution_count": 9,
     "metadata": {},
     "output_type": "execute_result"
    }
   ],
   "source": [
    "df.corr()              # Correlation is only between the float columns here,which is :CompTotal\tand ConvertedCompYearly"
   ]
  },
  {
   "cell_type": "markdown",
   "id": "7e19fbe5",
   "metadata": {},
   "source": [
    "### General conclusion without proper investigation or analysizing\n",
    "\n",
    "1. The total number of people that took the survey were 83,439.\n",
    "\n",
    "2. In terms of employment; people were emploed full_time, have Student full_time jobs. Although other employment status options were in the survey.\n",
    "\n",
    "3. Most of people who took the survey were \"25-44\" years of age followed by \"under 18\" years, \"45-54\" years etc.\n",
    "\n",
    "4. The first time they coded were mostly at age between \"11-17\" years mostly; followed by \"18-24\" years, \"5-10\" years."
   ]
  },
  {
   "cell_type": "code",
   "execution_count": 10,
   "id": "41efe205",
   "metadata": {},
   "outputs": [
    {
     "data": {
      "text/plain": [
       "array(['25-34 years old', '18-24 years old', '35-44 years old',\n",
       "       'Prefer not to say', '45-54 years old', 'Under 18 years old',\n",
       "       '65 years or older', '55-64 years old', nan], dtype=object)"
      ]
     },
     "execution_count": 10,
     "metadata": {},
     "output_type": "execute_result"
    }
   ],
   "source": [
    "df.Age.unique()"
   ]
  },
  {
   "cell_type": "code",
   "execution_count": 11,
   "id": "0f8c596d",
   "metadata": {},
   "outputs": [
    {
     "data": {
      "text/plain": [
       "25-34 years old       32568\n",
       "18-24 years old       20993\n",
       "35-44 years old       15183\n",
       "45-54 years old        5472\n",
       "Under 18 years old     5376\n",
       "55-64 years old        1819\n",
       "Prefer not to say       575\n",
       "65 years or older       421\n",
       "Name: Age, dtype: int64"
      ]
     },
     "execution_count": 11,
     "metadata": {},
     "output_type": "execute_result"
    }
   ],
   "source": [
    "df.Age.value_counts()"
   ]
  },
  {
   "cell_type": "code",
   "execution_count": 12,
   "id": "d12f948b",
   "metadata": {},
   "outputs": [
    {
     "data": {
      "text/plain": [
       "I am a developer by profession                                                   58153\n",
       "I am a student who is learning to code                                           12029\n",
       "I am not primarily a developer, but I write code sometimes as part of my work     6578\n",
       "I code primarily as a hobby                                                       4929\n",
       "I used to be a developer by profession, but no longer am                          1237\n",
       "None of these                                                                      513\n",
       "Name: MainBranch, dtype: int64"
      ]
     },
     "execution_count": 12,
     "metadata": {},
     "output_type": "execute_result"
    }
   ],
   "source": [
    "df.MainBranch.value_counts()"
   ]
  },
  {
   "cell_type": "code",
   "execution_count": 13,
   "id": "dbb7eea7",
   "metadata": {},
   "outputs": [
    {
     "data": {
      "text/plain": [
       "Employed full-time                                      53584\n",
       "Student, full-time                                      11781\n",
       "Independent contractor, freelancer, or self-employed     8041\n",
       "Not employed, but looking for work                       2961\n",
       "Employed part-time                                       2461\n",
       "Student, part-time                                       2051\n",
       "Not employed, and not looking for work                   1228\n",
       "I prefer not to say                                       890\n",
       "Retired                                                   326\n",
       "Name: Employment, dtype: int64"
      ]
     },
     "execution_count": 13,
     "metadata": {},
     "output_type": "execute_result"
    }
   ],
   "source": [
    "df.Employment.value_counts()           "
   ]
  },
  {
   "cell_type": "code",
   "execution_count": 14,
   "id": "97312cbe",
   "metadata": {},
   "outputs": [
    {
     "data": {
      "text/plain": [
       "[Text(0.5, 1.0, 'Six(6) categories of Survey participants')]"
      ]
     },
     "execution_count": 14,
     "metadata": {},
     "output_type": "execute_result"
    },
    {
     "data": {
      "image/png": "[encoded data removed]",
      "text/plain": [
       "<Figure size 432x288 with 1 Axes>"
      ]
     },
     "metadata": {
      "needs_background": "light"
     },
     "output_type": "display_data"
    }
   ],
   "source": [
    "sns.countplot(y='MainBranch',data=df).set(title=\"Six(6) categories of Survey participants\")"
   ]
  },
  {
   "cell_type": "code",
   "execution_count": 15,
   "id": "39e4304a",
   "metadata": {},
   "outputs": [
    {
     "data": {
      "text/plain": [
       "<AxesSubplot:ylabel='MainBranch'>"
      ]
     },
     "execution_count": 15,
     "metadata": {},
     "output_type": "execute_result"
    },
    {
     "data": {
      "image/png": "[encoded data removed]",
      "text/plain": [
       "<Figure size 1000x500 with 1 Axes>"
      ]
     },
     "metadata": {},
     "output_type": "display_data"
    }
   ],
   "source": [
    "from matplotlib.pyplot import figure\n",
    "figure(figsize=(20,10), dpi=50)\n",
    "\n",
    "\n",
    "df.MainBranch.value_counts().plot(kind='pie',autopct='%1.1f%%',textprops={'fontsize': 20})"
   ]
  },
  {
   "cell_type": "code",
   "execution_count": 16,
   "id": "c9432c07",
   "metadata": {},
   "outputs": [
    {
     "data": {
      "text/plain": [
       "[Text(0.5, 1.0, 'Employment Status during Survey')]"
      ]
     },
     "execution_count": 16,
     "metadata": {},
     "output_type": "execute_result"
    },
    {
     "data": {
      "image/png": "[encoded data removed]",
      "text/plain": [
       "<Figure size 432x288 with 1 Axes>"
      ]
     },
     "metadata": {
      "needs_background": "light"
     },
     "output_type": "display_data"
    }
   ],
   "source": [
    "sns.countplot(y='Employment',data=df).set(title=\"Employment Status during Survey\")"
   ]
  },
  {
   "cell_type": "code",
   "execution_count": 17,
   "id": "7306aae7",
   "metadata": {},
   "outputs": [
    {
     "data": {
      "text/plain": [
       "<AxesSubplot:ylabel='Employment'>"
      ]
     },
     "execution_count": 17,
     "metadata": {},
     "output_type": "execute_result"
    },
    {
     "data": {
      "image/png": "[encoded data removed]",
      "text/plain": [
       "<Figure size 1000x500 with 1 Axes>"
      ]
     },
     "metadata": {},
     "output_type": "display_data"
    }
   ],
   "source": [
    "from matplotlib.pyplot import figure\n",
    "figure(figsize=(20,10), dpi=50)\n",
    "\n",
    "\n",
    "df.Employment.value_counts().plot(kind='pie',autopct='%1.1f%%',textprops={'fontsize': 20})"
   ]
  },
  {
   "cell_type": "code",
   "execution_count": 18,
   "id": "9cfe0c16",
   "metadata": {},
   "outputs": [
    {
     "data": {
      "text/plain": [
       "[Text(0.5, 1.0, 'Age of Survey participants')]"
      ]
     },
     "execution_count": 18,
     "metadata": {},
     "output_type": "execute_result"
    },
    {
     "data": {
      "image/png": "[encoded data removed]",
      "text/plain": [
       "<Figure size 432x288 with 1 Axes>"
      ]
     },
     "metadata": {
      "needs_background": "light"
     },
     "output_type": "display_data"
    }
   ],
   "source": [
    "sns.countplot(y='Age',data=df).set(title=\"Age of Survey participants\")"
   ]
  },
  {
   "cell_type": "code",
   "execution_count": 19,
   "id": "ed14e382",
   "metadata": {},
   "outputs": [
    {
     "data": {
      "text/plain": [
       "<AxesSubplot:ylabel='Age'>"
      ]
     },
     "execution_count": 19,
     "metadata": {},
     "output_type": "execute_result"
    },
    {
     "data": {
      "image/png": "[encoded data removed]",
      "text/plain": [
       "<Figure size 1000x500 with 1 Axes>"
      ]
     },
     "metadata": {},
     "output_type": "display_data"
    }
   ],
   "source": [
    "from matplotlib.pyplot import figure\n",
    "figure(figsize=(20,10), dpi=50)\n",
    "\n",
    "\n",
    "df.Age.value_counts().plot(kind='pie',autopct='%1.1f%%',textprops={'fontsize': 20})"
   ]
  },
  {
   "cell_type": "code",
   "execution_count": 20,
   "id": "7872307a",
   "metadata": {},
   "outputs": [
    {
     "data": {
      "text/plain": [
       "[Text(0.5, 1.0, 'First coded Age')]"
      ]
     },
     "execution_count": 20,
     "metadata": {},
     "output_type": "execute_result"
    },
    {
     "data": {
      "image/png": "[encoded data removed]",
      "text/plain": [
       "<Figure size 432x288 with 1 Axes>"
      ]
     },
     "metadata": {
      "needs_background": "light"
     },
     "output_type": "display_data"
    }
   ],
   "source": [
    "sns.countplot(y='Age1stCode',data=df).set(title=\"First coded Age\")"
   ]
  },
  {
   "cell_type": "code",
   "execution_count": 21,
   "id": "3733f9f7",
   "metadata": {},
   "outputs": [
    {
     "data": {
      "text/plain": [
       "<AxesSubplot:ylabel='Age1stCode'>"
      ]
     },
     "execution_count": 21,
     "metadata": {},
     "output_type": "execute_result"
    },
    {
     "data": {
      "image/png": "[encoded data removed]",
      "text/plain": [
       "<Figure size 1000x500 with 1 Axes>"
      ]
     },
     "metadata": {},
     "output_type": "display_data"
    }
   ],
   "source": [
    "from matplotlib.pyplot import figure\n",
    "figure(figsize=(20,10), dpi=50)\n",
    "\n",
    "\n",
    "df.Age1stCode.value_counts().plot(kind='pie',autopct='%1.1f%%',textprops={'fontsize': 20})"
   ]
  },
  {
   "cell_type": "markdown",
   "id": "a87b6831",
   "metadata": {},
   "source": [
    "## B. Coverting strings to numerical values\n",
    "\n",
    "### YearsCodePro...........is experience coding professionally\n",
    "\n",
    "Get the list of non-numeric values for YearsCodePro"
   ]
  },
  {
   "cell_type": "code",
   "execution_count": 22,
   "id": "c2f00a49",
   "metadata": {},
   "outputs": [
    {
     "data": {
      "text/plain": [
       "count     61216\n",
       "unique       52\n",
       "top           3\n",
       "freq       5812\n",
       "Name: YearsCodePro, dtype: object"
      ]
     },
     "execution_count": 22,
     "metadata": {},
     "output_type": "execute_result"
    }
   ],
   "source": [
    "df.YearsCodePro.describe()"
   ]
  },
  {
   "cell_type": "code",
   "execution_count": 23,
   "id": "2e2e8447",
   "metadata": {},
   "outputs": [
    {
     "data": {
      "text/plain": [
       "array([nan, '10', '4', '5', '6', '2', '30', '9', '18', '12', '21', '1',\n",
       "       '16', 'Less than 1 year', '15', '3', '35', '7', '8', '17', '14',\n",
       "       '26', '25', '20', '50', '34', '11', '24', '22', '13', '31', '23',\n",
       "       '39', '41', '27', '28', '19', '33', 'More than 50 years', '37',\n",
       "       '29', '32', '43', '40', '38', '45', '42', '46', '36', '44', '47',\n",
       "       '48', '49'], dtype=object)"
      ]
     },
     "execution_count": 23,
     "metadata": {},
     "output_type": "execute_result"
    }
   ],
   "source": [
    "df.YearsCodePro.unique()"
   ]
  },
  {
   "cell_type": "code",
   "execution_count": null,
   "id": "4d27ce99",
   "metadata": {},
   "outputs": [],
   "source": []
  },
  {
   "cell_type": "code",
   "execution_count": 24,
   "id": "93627afa",
   "metadata": {},
   "outputs": [
    {
     "data": {
      "text/plain": [
       "array(['Less than 1 year', 'More than 50 years'], dtype=object)"
      ]
     },
     "execution_count": 24,
     "metadata": {},
     "output_type": "execute_result"
    }
   ],
   "source": [
    "def is_float(value):\n",
    "    try:\n",
    "        float(value)\n",
    "        return True\n",
    "    except:\n",
    "        return False\n",
    "\n",
    "df.YearsCodePro[df.YearsCodePro.apply(lambda x: not is_float(x))].unique()"
   ]
  },
  {
   "cell_type": "code",
   "execution_count": 25,
   "id": "bf609c10",
   "metadata": {},
   "outputs": [],
   "source": [
    "str_YearsCodePro_map = {\n",
    "    'nan': '0',\n",
    "    'Less than 1 year': '0.9',\n",
    "    'More than 50 years': 51,  \n",
    "}"
   ]
  },
  {
   "cell_type": "code",
   "execution_count": 26,
   "id": "f19c032c",
   "metadata": {},
   "outputs": [
    {
     "data": {
      "text/plain": [
       "array([nan, '10', '4', '5', '6', '2', '30', '9', '18', '12', '21', '1',\n",
       "       '16', '0.9', '15', '3', '35', '7', '8', '17', '14', '26', '25',\n",
       "       '20', '50', '34', '11', '24', '22', '13', '31', '23', '39', '41',\n",
       "       '27', '28', '19', '33', 51, '37', '29', '32', '43', '40', '38',\n",
       "       '45', '42', '46', '36', '44', '47', '48', '49'], dtype=object)"
      ]
     },
     "execution_count": 26,
     "metadata": {},
     "output_type": "execute_result"
    }
   ],
   "source": [
    "df['YearsCodePro'] = df.YearsCodePro.apply(lambda x: str_YearsCodePro_map.get(x, x)) #Command/\"get\" is an API term\n",
    "df.YearsCodePro.unique()           #API is Application Programming Interface"
   ]
  },
  {
   "cell_type": "code",
   "execution_count": 27,
   "id": "418e591b",
   "metadata": {},
   "outputs": [
    {
     "data": {
      "text/html": [
       "<div>\n",
       "<style scoped>\n",
       "    .dataframe tbody tr th:only-of-type {\n",
       "        vertical-align: middle;\n",
       "    }\n",
       "\n",
       "    .dataframe tbody tr th {\n",
       "        vertical-align: top;\n",
       "    }\n",
       "\n",
       "    .dataframe thead th {\n",
       "        text-align: right;\n",
       "    }\n",
       "</style>\n",
       "<table border=\"1\" class=\"dataframe\">\n",
       "  <thead>\n",
       "    <tr style=\"text-align: right;\">\n",
       "      <th></th>\n",
       "      <th>MainBranch</th>\n",
       "      <th>YearsCodePro</th>\n",
       "    </tr>\n",
       "  </thead>\n",
       "  <tbody>\n",
       "    <tr>\n",
       "      <th>0</th>\n",
       "      <td>I am a developer by profession</td>\n",
       "      <td>NaN</td>\n",
       "    </tr>\n",
       "    <tr>\n",
       "      <th>1</th>\n",
       "      <td>I am a student who is learning to code</td>\n",
       "      <td>NaN</td>\n",
       "    </tr>\n",
       "    <tr>\n",
       "      <th>2</th>\n",
       "      <td>I am not primarily a developer, but I write co...</td>\n",
       "      <td>NaN</td>\n",
       "    </tr>\n",
       "    <tr>\n",
       "      <th>3</th>\n",
       "      <td>I am a developer by profession</td>\n",
       "      <td>NaN</td>\n",
       "    </tr>\n",
       "    <tr>\n",
       "      <th>4</th>\n",
       "      <td>I am a developer by profession</td>\n",
       "      <td>10</td>\n",
       "    </tr>\n",
       "    <tr>\n",
       "      <th>...</th>\n",
       "      <td>...</td>\n",
       "      <td>...</td>\n",
       "    </tr>\n",
       "    <tr>\n",
       "      <th>83434</th>\n",
       "      <td>I am a developer by profession</td>\n",
       "      <td>5</td>\n",
       "    </tr>\n",
       "    <tr>\n",
       "      <th>83435</th>\n",
       "      <td>I am a developer by profession</td>\n",
       "      <td>2</td>\n",
       "    </tr>\n",
       "    <tr>\n",
       "      <th>83436</th>\n",
       "      <td>I am a developer by profession</td>\n",
       "      <td>4</td>\n",
       "    </tr>\n",
       "    <tr>\n",
       "      <th>83437</th>\n",
       "      <td>I am a developer by profession</td>\n",
       "      <td>3</td>\n",
       "    </tr>\n",
       "    <tr>\n",
       "      <th>83438</th>\n",
       "      <td>I am a developer by profession</td>\n",
       "      <td>4</td>\n",
       "    </tr>\n",
       "  </tbody>\n",
       "</table>\n",
       "<p>83439 rows × 2 columns</p>\n",
       "</div>"
      ],
      "text/plain": [
       "                                              MainBranch YearsCodePro\n",
       "0                         I am a developer by profession          NaN\n",
       "1                 I am a student who is learning to code          NaN\n",
       "2      I am not primarily a developer, but I write co...          NaN\n",
       "3                         I am a developer by profession          NaN\n",
       "4                         I am a developer by profession           10\n",
       "...                                                  ...          ...\n",
       "83434                     I am a developer by profession            5\n",
       "83435                     I am a developer by profession            2\n",
       "83436                     I am a developer by profession            4\n",
       "83437                     I am a developer by profession            3\n",
       "83438                     I am a developer by profession            4\n",
       "\n",
       "[83439 rows x 2 columns]"
      ]
     },
     "execution_count": 27,
     "metadata": {},
     "output_type": "execute_result"
    }
   ],
   "source": [
    "df_yearpro=df.query('YearsCodePro!=\"More than 50 years\" & YearsCodePro!=\"Less than 1 year\" & YearsCodePro!=\"Nan\"')\n",
    "yr_pro=df_yearpro[['MainBranch','YearsCodePro']]\n",
    "yr_pro"
   ]
  },
  {
   "cell_type": "code",
   "execution_count": 28,
   "id": "c8463eb0",
   "metadata": {},
   "outputs": [
    {
     "data": {
      "text/html": [
       "<div>\n",
       "<style scoped>\n",
       "    .dataframe tbody tr th:only-of-type {\n",
       "        vertical-align: middle;\n",
       "    }\n",
       "\n",
       "    .dataframe tbody tr th {\n",
       "        vertical-align: top;\n",
       "    }\n",
       "\n",
       "    .dataframe thead th {\n",
       "        text-align: right;\n",
       "    }\n",
       "</style>\n",
       "<table border=\"1\" class=\"dataframe\">\n",
       "  <thead>\n",
       "    <tr style=\"text-align: right;\">\n",
       "      <th></th>\n",
       "      <th>MainBranch</th>\n",
       "      <th>YearsCodePro</th>\n",
       "    </tr>\n",
       "  </thead>\n",
       "  <tbody>\n",
       "    <tr>\n",
       "      <th>0</th>\n",
       "      <td>I am a developer by profession</td>\n",
       "      <td>NaN</td>\n",
       "    </tr>\n",
       "    <tr>\n",
       "      <th>3</th>\n",
       "      <td>I am a developer by profession</td>\n",
       "      <td>NaN</td>\n",
       "    </tr>\n",
       "    <tr>\n",
       "      <th>4</th>\n",
       "      <td>I am a developer by profession</td>\n",
       "      <td>10</td>\n",
       "    </tr>\n",
       "    <tr>\n",
       "      <th>8</th>\n",
       "      <td>I am a developer by profession</td>\n",
       "      <td>4</td>\n",
       "    </tr>\n",
       "    <tr>\n",
       "      <th>9</th>\n",
       "      <td>I am a developer by profession</td>\n",
       "      <td>4</td>\n",
       "    </tr>\n",
       "    <tr>\n",
       "      <th>...</th>\n",
       "      <td>...</td>\n",
       "      <td>...</td>\n",
       "    </tr>\n",
       "    <tr>\n",
       "      <th>83434</th>\n",
       "      <td>I am a developer by profession</td>\n",
       "      <td>5</td>\n",
       "    </tr>\n",
       "    <tr>\n",
       "      <th>83435</th>\n",
       "      <td>I am a developer by profession</td>\n",
       "      <td>2</td>\n",
       "    </tr>\n",
       "    <tr>\n",
       "      <th>83436</th>\n",
       "      <td>I am a developer by profession</td>\n",
       "      <td>4</td>\n",
       "    </tr>\n",
       "    <tr>\n",
       "      <th>83437</th>\n",
       "      <td>I am a developer by profession</td>\n",
       "      <td>3</td>\n",
       "    </tr>\n",
       "    <tr>\n",
       "      <th>83438</th>\n",
       "      <td>I am a developer by profession</td>\n",
       "      <td>4</td>\n",
       "    </tr>\n",
       "  </tbody>\n",
       "</table>\n",
       "<p>58153 rows × 2 columns</p>\n",
       "</div>"
      ],
      "text/plain": [
       "                           MainBranch YearsCodePro\n",
       "0      I am a developer by profession          NaN\n",
       "3      I am a developer by profession          NaN\n",
       "4      I am a developer by profession           10\n",
       "8      I am a developer by profession            4\n",
       "9      I am a developer by profession            4\n",
       "...                               ...          ...\n",
       "83434  I am a developer by profession            5\n",
       "83435  I am a developer by profession            2\n",
       "83436  I am a developer by profession            4\n",
       "83437  I am a developer by profession            3\n",
       "83438  I am a developer by profession            4\n",
       "\n",
       "[58153 rows x 2 columns]"
      ]
     },
     "execution_count": 28,
     "metadata": {},
     "output_type": "execute_result"
    }
   ],
   "source": [
    "#yr_pro.query('MainBranch')[['YearsCodePro']].mean()\n",
    "\n",
    "dp_proyr=yr_pro.query('MainBranch==\"I am a developer by profession\" & YearsCodePro != \"nan\"')\n",
    "dp_proyr"
   ]
  },
  {
   "cell_type": "code",
   "execution_count": 29,
   "id": "17cf3a62",
   "metadata": {},
   "outputs": [
    {
     "data": {
      "text/plain": [
       "<AxesSubplot:ylabel='YearsCodePro'>"
      ]
     },
     "execution_count": 29,
     "metadata": {},
     "output_type": "execute_result"
    },
    {
     "data": {
      "image/png": "[encoded data removed]",
      "text/plain": [
       "<Figure size 432x288 with 1 Axes>"
      ]
     },
     "metadata": {},
     "output_type": "display_data"
    }
   ],
   "source": [
    "#dp_proyr.plot.pie(y='YearsCodePro', figsize=(5, 5))\n",
    "\n",
    "#plt.figure(figsize=(16,8))\n",
    "# plot chart\n",
    "#ax1 = plt.subplot(121, aspect='equal')\n",
    "#df.plot(kind='pie', y = 'YearsCodePro', ax=ax1, autopct='%1.1f%%', \n",
    "# startangle=90, shadow=False, labels=dp_proyr['MainBranch'], legend = False, fontsize=14)\n",
    "\n",
    "#plt.show()\n",
    "\n",
    "dp_proyr.YearsCodePro.value_counts().plot(kind='pie')"
   ]
  },
  {
   "cell_type": "code",
   "execution_count": 30,
   "id": "8c0a396b",
   "metadata": {},
   "outputs": [],
   "source": [
    "#yr_pro.query(['MainBranch==\"I am a developer by profession\"']).value_counts()"
   ]
  },
  {
   "cell_type": "markdown",
   "id": "c50be3f1",
   "metadata": {},
   "source": [
    "### Question 1: How many developers by profession have full time jobs?"
   ]
  },
  {
   "cell_type": "code",
   "execution_count": 31,
   "id": "d1230a1e",
   "metadata": {},
   "outputs": [
    {
     "name": "stdout",
     "output_type": "stream",
     "text": [
      " Developers by profession with full_time jobs are 46884 from total of 58,153 developers by profession in the survey.\n"
     ]
    }
   ],
   "source": [
    "df_full=df.query('MainBranch==\"I am a developer by profession\" & Employment==\"Employed full-time\"')\n",
    "df_fullemploy=df_full[['MainBranch','Employment']]\n",
    "print(f' Developers by profession with full_time jobs are {len(df_fullemploy)} from total of 58,153 developers by profession in the survey.')\n"
   ]
  },
  {
   "cell_type": "code",
   "execution_count": 32,
   "id": "f9f77017",
   "metadata": {},
   "outputs": [
    {
     "data": {
      "text/html": [
       "<div>\n",
       "<style scoped>\n",
       "    .dataframe tbody tr th:only-of-type {\n",
       "        vertical-align: middle;\n",
       "    }\n",
       "\n",
       "    .dataframe tbody tr th {\n",
       "        vertical-align: top;\n",
       "    }\n",
       "\n",
       "    .dataframe thead th {\n",
       "        text-align: right;\n",
       "    }\n",
       "</style>\n",
       "<table border=\"1\" class=\"dataframe\">\n",
       "  <thead>\n",
       "    <tr style=\"text-align: right;\">\n",
       "      <th></th>\n",
       "      <th>MainBranch</th>\n",
       "      <th>Employment</th>\n",
       "    </tr>\n",
       "  </thead>\n",
       "  <tbody>\n",
       "    <tr>\n",
       "      <th>0</th>\n",
       "      <td>I am a developer by profession</td>\n",
       "      <td>Independent contractor, freelancer, or self-em...</td>\n",
       "    </tr>\n",
       "    <tr>\n",
       "      <th>1</th>\n",
       "      <td>I am a student who is learning to code</td>\n",
       "      <td>Student, full-time</td>\n",
       "    </tr>\n",
       "    <tr>\n",
       "      <th>2</th>\n",
       "      <td>I am not primarily a developer, but I write co...</td>\n",
       "      <td>Student, full-time</td>\n",
       "    </tr>\n",
       "    <tr>\n",
       "      <th>3</th>\n",
       "      <td>I am a developer by profession</td>\n",
       "      <td>Employed full-time</td>\n",
       "    </tr>\n",
       "    <tr>\n",
       "      <th>4</th>\n",
       "      <td>I am a developer by profession</td>\n",
       "      <td>Independent contractor, freelancer, or self-em...</td>\n",
       "    </tr>\n",
       "    <tr>\n",
       "      <th>...</th>\n",
       "      <td>...</td>\n",
       "      <td>...</td>\n",
       "    </tr>\n",
       "    <tr>\n",
       "      <th>83434</th>\n",
       "      <td>I am a developer by profession</td>\n",
       "      <td>Employed full-time</td>\n",
       "    </tr>\n",
       "    <tr>\n",
       "      <th>83435</th>\n",
       "      <td>I am a developer by profession</td>\n",
       "      <td>Independent contractor, freelancer, or self-em...</td>\n",
       "    </tr>\n",
       "    <tr>\n",
       "      <th>83436</th>\n",
       "      <td>I am a developer by profession</td>\n",
       "      <td>Employed full-time</td>\n",
       "    </tr>\n",
       "    <tr>\n",
       "      <th>83437</th>\n",
       "      <td>I am a developer by profession</td>\n",
       "      <td>Employed full-time</td>\n",
       "    </tr>\n",
       "    <tr>\n",
       "      <th>83438</th>\n",
       "      <td>I am a developer by profession</td>\n",
       "      <td>Employed full-time</td>\n",
       "    </tr>\n",
       "  </tbody>\n",
       "</table>\n",
       "<p>83439 rows × 2 columns</p>\n",
       "</div>"
      ],
      "text/plain": [
       "                                              MainBranch  \\\n",
       "0                         I am a developer by profession   \n",
       "1                 I am a student who is learning to code   \n",
       "2      I am not primarily a developer, but I write co...   \n",
       "3                         I am a developer by profession   \n",
       "4                         I am a developer by profession   \n",
       "...                                                  ...   \n",
       "83434                     I am a developer by profession   \n",
       "83435                     I am a developer by profession   \n",
       "83436                     I am a developer by profession   \n",
       "83437                     I am a developer by profession   \n",
       "83438                     I am a developer by profession   \n",
       "\n",
       "                                              Employment  \n",
       "0      Independent contractor, freelancer, or self-em...  \n",
       "1                                     Student, full-time  \n",
       "2                                     Student, full-time  \n",
       "3                                     Employed full-time  \n",
       "4      Independent contractor, freelancer, or self-em...  \n",
       "...                                                  ...  \n",
       "83434                                 Employed full-time  \n",
       "83435  Independent contractor, freelancer, or self-em...  \n",
       "83436                                 Employed full-time  \n",
       "83437                                 Employed full-time  \n",
       "83438                                 Employed full-time  \n",
       "\n",
       "[83439 rows x 2 columns]"
      ]
     },
     "execution_count": 32,
     "metadata": {},
     "output_type": "execute_result"
    }
   ],
   "source": [
    "df_employ=df[['MainBranch','Employment']]\n",
    "df_employ"
   ]
  },
  {
   "cell_type": "code",
   "execution_count": 33,
   "id": "0d45cb53",
   "metadata": {},
   "outputs": [
    {
     "data": {
      "text/html": [
       "<div>\n",
       "<style scoped>\n",
       "    .dataframe tbody tr th:only-of-type {\n",
       "        vertical-align: middle;\n",
       "    }\n",
       "\n",
       "    .dataframe tbody tr th {\n",
       "        vertical-align: top;\n",
       "    }\n",
       "\n",
       "    .dataframe thead th {\n",
       "        text-align: right;\n",
       "    }\n",
       "</style>\n",
       "<table border=\"1\" class=\"dataframe\">\n",
       "  <thead>\n",
       "    <tr style=\"text-align: right;\">\n",
       "      <th></th>\n",
       "      <th>MainBranch</th>\n",
       "      <th>Employment</th>\n",
       "    </tr>\n",
       "  </thead>\n",
       "  <tbody>\n",
       "    <tr>\n",
       "      <th>0</th>\n",
       "      <td>I am a developer by profession</td>\n",
       "      <td>Independent contractor, freelancer, or self-em...</td>\n",
       "    </tr>\n",
       "    <tr>\n",
       "      <th>1</th>\n",
       "      <td>I am a student who is learning to code</td>\n",
       "      <td>Student, full-time</td>\n",
       "    </tr>\n",
       "    <tr>\n",
       "      <th>2</th>\n",
       "      <td>I am not primarily a developer, but I write co...</td>\n",
       "      <td>Student, full-time</td>\n",
       "    </tr>\n",
       "    <tr>\n",
       "      <th>3</th>\n",
       "      <td>I am a developer by profession</td>\n",
       "      <td>Employed full-time</td>\n",
       "    </tr>\n",
       "    <tr>\n",
       "      <th>4</th>\n",
       "      <td>I am a developer by profession</td>\n",
       "      <td>Independent contractor, freelancer, or self-em...</td>\n",
       "    </tr>\n",
       "    <tr>\n",
       "      <th>...</th>\n",
       "      <td>...</td>\n",
       "      <td>...</td>\n",
       "    </tr>\n",
       "    <tr>\n",
       "      <th>83434</th>\n",
       "      <td>I am a developer by profession</td>\n",
       "      <td>Employed full-time</td>\n",
       "    </tr>\n",
       "    <tr>\n",
       "      <th>83435</th>\n",
       "      <td>I am a developer by profession</td>\n",
       "      <td>Independent contractor, freelancer, or self-em...</td>\n",
       "    </tr>\n",
       "    <tr>\n",
       "      <th>83436</th>\n",
       "      <td>I am a developer by profession</td>\n",
       "      <td>Employed full-time</td>\n",
       "    </tr>\n",
       "    <tr>\n",
       "      <th>83437</th>\n",
       "      <td>I am a developer by profession</td>\n",
       "      <td>Employed full-time</td>\n",
       "    </tr>\n",
       "    <tr>\n",
       "      <th>83438</th>\n",
       "      <td>I am a developer by profession</td>\n",
       "      <td>Employed full-time</td>\n",
       "    </tr>\n",
       "  </tbody>\n",
       "</table>\n",
       "<p>82133 rows × 2 columns</p>\n",
       "</div>"
      ],
      "text/plain": [
       "                                              MainBranch  \\\n",
       "0                         I am a developer by profession   \n",
       "1                 I am a student who is learning to code   \n",
       "2      I am not primarily a developer, but I write co...   \n",
       "3                         I am a developer by profession   \n",
       "4                         I am a developer by profession   \n",
       "...                                                  ...   \n",
       "83434                     I am a developer by profession   \n",
       "83435                     I am a developer by profession   \n",
       "83436                     I am a developer by profession   \n",
       "83437                     I am a developer by profession   \n",
       "83438                     I am a developer by profession   \n",
       "\n",
       "                                              Employment  \n",
       "0      Independent contractor, freelancer, or self-em...  \n",
       "1                                     Student, full-time  \n",
       "2                                     Student, full-time  \n",
       "3                                     Employed full-time  \n",
       "4      Independent contractor, freelancer, or self-em...  \n",
       "...                                                  ...  \n",
       "83434                                 Employed full-time  \n",
       "83435  Independent contractor, freelancer, or self-em...  \n",
       "83436                                 Employed full-time  \n",
       "83437                                 Employed full-time  \n",
       "83438                                 Employed full-time  \n",
       "\n",
       "[82133 rows x 2 columns]"
      ]
     },
     "execution_count": 33,
     "metadata": {},
     "output_type": "execute_result"
    }
   ],
   "source": [
    "df_employ1=df_employ.query('Employment !=\"nan\" & MainBranch!=\"None of these\" & Employment !=\"I prefer not to say\"')\n",
    "df_employ1\n",
    "\n",
    "#Char_a=df.query('Region==\"Charlottenburg\" & Rent<= 1750')\n",
    "#Char_a"
   ]
  },
  {
   "cell_type": "code",
   "execution_count": 34,
   "id": "9bacfcc4",
   "metadata": {},
   "outputs": [
    {
     "data": {
      "text/plain": [
       "array(['Independent contractor, freelancer, or self-employed',\n",
       "       'Student, full-time', 'Employed full-time', 'Student, part-time',\n",
       "       'Employed part-time', 'Not employed, but looking for work',\n",
       "       'Retired', 'Not employed, and not looking for work', nan],\n",
       "      dtype=object)"
      ]
     },
     "execution_count": 34,
     "metadata": {},
     "output_type": "execute_result"
    }
   ],
   "source": [
    "df_employ1.Employment.unique()"
   ]
  },
  {
   "cell_type": "code",
   "execution_count": 35,
   "id": "869fc444",
   "metadata": {},
   "outputs": [
    {
     "name": "stderr",
     "output_type": "stream",
     "text": [
      "C:\\Users\\Uyoyo\\AppData\\Local\\Temp/ipykernel_7564/990236576.py:1: SettingWithCopyWarning: \n",
      "A value is trying to be set on a copy of a slice from a DataFrame.\n",
      "Try using .loc[row_indexer,col_indexer] = value instead\n",
      "\n",
      "See the caveats in the documentation: https://pandas.pydata.org/pandas-docs/stable/user_guide/indexing.html#returning-a-view-versus-a-copy\n",
      "  df_employ1[\"EmploymentNum\"]=\"\"\n"
     ]
    }
   ],
   "source": [
    "df_employ1[\"EmploymentNum\"]=\"\"\n",
    "#df_employ1.head(1)"
   ]
  },
  {
   "cell_type": "code",
   "execution_count": 36,
   "id": "ec27dacf",
   "metadata": {},
   "outputs": [
    {
     "name": "stderr",
     "output_type": "stream",
     "text": [
      "C:\\Users\\Uyoyo\\AppData\\Local\\Temp/ipykernel_7564/2073604011.py:1: SettingWithCopyWarning: \n",
      "A value is trying to be set on a copy of a slice from a DataFrame.\n",
      "Try using .loc[row_indexer,col_indexer] = value instead\n",
      "\n",
      "See the caveats in the documentation: https://pandas.pydata.org/pandas-docs/stable/user_guide/indexing.html#returning-a-view-versus-a-copy\n",
      "  df_employ1['EmploymentNum']=df_employ1['Employment'].map({\"Independent contractor, freelancer, or self-employed\":7,\n"
     ]
    },
    {
     "data": {
      "text/html": [
       "<div>\n",
       "<style scoped>\n",
       "    .dataframe tbody tr th:only-of-type {\n",
       "        vertical-align: middle;\n",
       "    }\n",
       "\n",
       "    .dataframe tbody tr th {\n",
       "        vertical-align: top;\n",
       "    }\n",
       "\n",
       "    .dataframe thead th {\n",
       "        text-align: right;\n",
       "    }\n",
       "</style>\n",
       "<table border=\"1\" class=\"dataframe\">\n",
       "  <thead>\n",
       "    <tr style=\"text-align: right;\">\n",
       "      <th></th>\n",
       "      <th>MainBranch</th>\n",
       "      <th>Employment</th>\n",
       "      <th>EmploymentNum</th>\n",
       "    </tr>\n",
       "  </thead>\n",
       "  <tbody>\n",
       "    <tr>\n",
       "      <th>0</th>\n",
       "      <td>I am a developer by profession</td>\n",
       "      <td>Independent contractor, freelancer, or self-em...</td>\n",
       "      <td>7.0</td>\n",
       "    </tr>\n",
       "    <tr>\n",
       "      <th>1</th>\n",
       "      <td>I am a student who is learning to code</td>\n",
       "      <td>Student, full-time</td>\n",
       "      <td>6.0</td>\n",
       "    </tr>\n",
       "    <tr>\n",
       "      <th>2</th>\n",
       "      <td>I am not primarily a developer, but I write co...</td>\n",
       "      <td>Student, full-time</td>\n",
       "      <td>6.0</td>\n",
       "    </tr>\n",
       "    <tr>\n",
       "      <th>3</th>\n",
       "      <td>I am a developer by profession</td>\n",
       "      <td>Employed full-time</td>\n",
       "      <td>5.0</td>\n",
       "    </tr>\n",
       "    <tr>\n",
       "      <th>4</th>\n",
       "      <td>I am a developer by profession</td>\n",
       "      <td>Independent contractor, freelancer, or self-em...</td>\n",
       "      <td>7.0</td>\n",
       "    </tr>\n",
       "    <tr>\n",
       "      <th>...</th>\n",
       "      <td>...</td>\n",
       "      <td>...</td>\n",
       "      <td>...</td>\n",
       "    </tr>\n",
       "    <tr>\n",
       "      <th>83434</th>\n",
       "      <td>I am a developer by profession</td>\n",
       "      <td>Employed full-time</td>\n",
       "      <td>5.0</td>\n",
       "    </tr>\n",
       "    <tr>\n",
       "      <th>83435</th>\n",
       "      <td>I am a developer by profession</td>\n",
       "      <td>Independent contractor, freelancer, or self-em...</td>\n",
       "      <td>7.0</td>\n",
       "    </tr>\n",
       "    <tr>\n",
       "      <th>83436</th>\n",
       "      <td>I am a developer by profession</td>\n",
       "      <td>Employed full-time</td>\n",
       "      <td>5.0</td>\n",
       "    </tr>\n",
       "    <tr>\n",
       "      <th>83437</th>\n",
       "      <td>I am a developer by profession</td>\n",
       "      <td>Employed full-time</td>\n",
       "      <td>5.0</td>\n",
       "    </tr>\n",
       "    <tr>\n",
       "      <th>83438</th>\n",
       "      <td>I am a developer by profession</td>\n",
       "      <td>Employed full-time</td>\n",
       "      <td>5.0</td>\n",
       "    </tr>\n",
       "  </tbody>\n",
       "</table>\n",
       "<p>82133 rows × 3 columns</p>\n",
       "</div>"
      ],
      "text/plain": [
       "                                              MainBranch  \\\n",
       "0                         I am a developer by profession   \n",
       "1                 I am a student who is learning to code   \n",
       "2      I am not primarily a developer, but I write co...   \n",
       "3                         I am a developer by profession   \n",
       "4                         I am a developer by profession   \n",
       "...                                                  ...   \n",
       "83434                     I am a developer by profession   \n",
       "83435                     I am a developer by profession   \n",
       "83436                     I am a developer by profession   \n",
       "83437                     I am a developer by profession   \n",
       "83438                     I am a developer by profession   \n",
       "\n",
       "                                              Employment  EmploymentNum  \n",
       "0      Independent contractor, freelancer, or self-em...            7.0  \n",
       "1                                     Student, full-time            6.0  \n",
       "2                                     Student, full-time            6.0  \n",
       "3                                     Employed full-time            5.0  \n",
       "4      Independent contractor, freelancer, or self-em...            7.0  \n",
       "...                                                  ...            ...  \n",
       "83434                                 Employed full-time            5.0  \n",
       "83435  Independent contractor, freelancer, or self-em...            7.0  \n",
       "83436                                 Employed full-time            5.0  \n",
       "83437                                 Employed full-time            5.0  \n",
       "83438                                 Employed full-time            5.0  \n",
       "\n",
       "[82133 rows x 3 columns]"
      ]
     },
     "execution_count": 36,
     "metadata": {},
     "output_type": "execute_result"
    }
   ],
   "source": [
    "df_employ1['EmploymentNum']=df_employ1['Employment'].map({\"Independent contractor, freelancer, or self-employed\":7,\n",
    "\"Student, full-time\":6, \"Employed full-time\":5, \"Student, part-time\":4,\"Employed part-time\":3,\n",
    "\"Not employed, but looking for work\":2,\"Not employed, and not looking for work\":1})\n",
    "df_employ1"
   ]
  },
  {
   "cell_type": "code",
   "execution_count": 37,
   "id": "d3a904a7",
   "metadata": {},
   "outputs": [],
   "source": [
    "#df_employ1.value_counts()"
   ]
  },
  {
   "cell_type": "code",
   "execution_count": 38,
   "id": "a1c808d3",
   "metadata": {},
   "outputs": [
    {
     "data": {
      "text/plain": [
       "[Text(0.5, 1.0, 'Employment Status')]"
      ]
     },
     "execution_count": 38,
     "metadata": {},
     "output_type": "execute_result"
    },
    {
     "data": {
      "image/png": "[encoded data removed]",
      "text/plain": [
       "<Figure size 432x288 with 1 Axes>"
      ]
     },
     "metadata": {
      "needs_background": "light"
     },
     "output_type": "display_data"
    }
   ],
   "source": [
    "sns.histplot(y='MainBranch',x='EmploymentNum',data=df_employ1).set(title=\"Employment Status\")"
   ]
  },
  {
   "cell_type": "code",
   "execution_count": 39,
   "id": "ae9044e8",
   "metadata": {},
   "outputs": [
    {
     "name": "stdout",
     "output_type": "stream",
     "text": [
      " The percentage of Developers by profession (ie 46884) with full-time employment from the survey is 56.19%\n"
     ]
    }
   ],
   "source": [
    "print(f' The percentage of Developers by profession (ie {len(df_fullemploy)}) with full-time employment from the survey is {round((len(df_fullemploy)/len(df))*100,2)}%')"
   ]
  },
  {
   "cell_type": "markdown",
   "id": "cdd0a2b4",
   "metadata": {},
   "source": [
    "Note:\n",
    "\n",
    "The number of developers that full-time employment are 46,884 developers from the survey. \n",
    "Comparing this number to total number of people that did the survey, developers with full-time jobs take 56.19% of the survey."
   ]
  },
  {
   "cell_type": "code",
   "execution_count": 40,
   "id": "aeaa1e9c",
   "metadata": {},
   "outputs": [
    {
     "data": {
      "text/plain": [
       "array(['18 - 24 years', '11 - 17 years', '5 - 10 years', '25 - 34 years',\n",
       "       '35 - 44 years', 'Younger than 5 years', '45 - 54 years',\n",
       "       '55 - 64 years', nan, 'Older than 64 years'], dtype=object)"
      ]
     },
     "execution_count": 40,
     "metadata": {},
     "output_type": "execute_result"
    }
   ],
   "source": [
    "df.Age1stCode.unique()"
   ]
  },
  {
   "cell_type": "code",
   "execution_count": 41,
   "id": "bf2f94d2",
   "metadata": {},
   "outputs": [
    {
     "data": {
      "text/html": [
       "<div>\n",
       "<style scoped>\n",
       "    .dataframe tbody tr th:only-of-type {\n",
       "        vertical-align: middle;\n",
       "    }\n",
       "\n",
       "    .dataframe tbody tr th {\n",
       "        vertical-align: top;\n",
       "    }\n",
       "\n",
       "    .dataframe thead th {\n",
       "        text-align: right;\n",
       "    }\n",
       "</style>\n",
       "<table border=\"1\" class=\"dataframe\">\n",
       "  <thead>\n",
       "    <tr style=\"text-align: right;\">\n",
       "      <th></th>\n",
       "      <th>MainBranch</th>\n",
       "      <th>Age_group_1stCode</th>\n",
       "      <th>First_codenum</th>\n",
       "    </tr>\n",
       "  </thead>\n",
       "  <tbody>\n",
       "    <tr>\n",
       "      <th>0</th>\n",
       "      <td>I am a developer by profession</td>\n",
       "      <td>18 - 24 years</td>\n",
       "      <td></td>\n",
       "    </tr>\n",
       "    <tr>\n",
       "      <th>1</th>\n",
       "      <td>I am a student who is learning to code</td>\n",
       "      <td>11 - 17 years</td>\n",
       "      <td></td>\n",
       "    </tr>\n",
       "  </tbody>\n",
       "</table>\n",
       "</div>"
      ],
      "text/plain": [
       "                               MainBranch Age_group_1stCode First_codenum\n",
       "0          I am a developer by profession     18 - 24 years              \n",
       "1  I am a student who is learning to code     11 - 17 years              "
      ]
     },
     "execution_count": 41,
     "metadata": {},
     "output_type": "execute_result"
    }
   ],
   "source": [
    "df_age1st=df[['MainBranch','Age1stCode']]\n",
    "df_age1st=df_age1st.query('MainBranch !=\"None of these\"')\n",
    "df_age1st=df_age1st.rename(columns={\"Age1stCode\":\"Age_group_1stCode\"})\n",
    "df_age1st\n",
    "df_age1st[\"First_codenum\"]=\"\"\n",
    "df_age1st.head(2)"
   ]
  },
  {
   "cell_type": "code",
   "execution_count": 42,
   "id": "26e63e21",
   "metadata": {},
   "outputs": [
    {
     "data": {
      "text/html": [
       "<div>\n",
       "<style scoped>\n",
       "    .dataframe tbody tr th:only-of-type {\n",
       "        vertical-align: middle;\n",
       "    }\n",
       "\n",
       "    .dataframe tbody tr th {\n",
       "        vertical-align: top;\n",
       "    }\n",
       "\n",
       "    .dataframe thead th {\n",
       "        text-align: right;\n",
       "    }\n",
       "</style>\n",
       "<table border=\"1\" class=\"dataframe\">\n",
       "  <thead>\n",
       "    <tr style=\"text-align: right;\">\n",
       "      <th></th>\n",
       "      <th>MainBranch</th>\n",
       "      <th>Age_group_1stCode</th>\n",
       "      <th>First_codenum</th>\n",
       "    </tr>\n",
       "  </thead>\n",
       "  <tbody>\n",
       "    <tr>\n",
       "      <th>0</th>\n",
       "      <td>I am a developer by profession</td>\n",
       "      <td>18 - 24 years</td>\n",
       "      <td></td>\n",
       "    </tr>\n",
       "    <tr>\n",
       "      <th>1</th>\n",
       "      <td>I am a student who is learning to code</td>\n",
       "      <td>11 - 17 years</td>\n",
       "      <td></td>\n",
       "    </tr>\n",
       "  </tbody>\n",
       "</table>\n",
       "</div>"
      ],
      "text/plain": [
       "                               MainBranch Age_group_1stCode First_codenum\n",
       "0          I am a developer by profession     18 - 24 years              \n",
       "1  I am a student who is learning to code     11 - 17 years              "
      ]
     },
     "execution_count": 42,
     "metadata": {},
     "output_type": "execute_result"
    }
   ],
   "source": [
    "df_age1st=df_age1st.query(\"Age_group_1stCode !='nan'\")\n",
    "df_age1st.head(2)"
   ]
  },
  {
   "cell_type": "code",
   "execution_count": 43,
   "id": "fa0ec9f4",
   "metadata": {},
   "outputs": [
    {
     "data": {
      "text/html": [
       "<div>\n",
       "<style scoped>\n",
       "    .dataframe tbody tr th:only-of-type {\n",
       "        vertical-align: middle;\n",
       "    }\n",
       "\n",
       "    .dataframe tbody tr th {\n",
       "        vertical-align: top;\n",
       "    }\n",
       "\n",
       "    .dataframe thead th {\n",
       "        text-align: right;\n",
       "    }\n",
       "</style>\n",
       "<table border=\"1\" class=\"dataframe\">\n",
       "  <thead>\n",
       "    <tr style=\"text-align: right;\">\n",
       "      <th></th>\n",
       "      <th>MainBranch</th>\n",
       "      <th>Age_group_1stCode</th>\n",
       "      <th>First_codenum</th>\n",
       "    </tr>\n",
       "  </thead>\n",
       "  <tbody>\n",
       "    <tr>\n",
       "      <th>0</th>\n",
       "      <td>I am a developer by profession</td>\n",
       "      <td>18 - 24 years</td>\n",
       "      <td>4.0</td>\n",
       "    </tr>\n",
       "    <tr>\n",
       "      <th>1</th>\n",
       "      <td>I am a student who is learning to code</td>\n",
       "      <td>11 - 17 years</td>\n",
       "      <td>3.0</td>\n",
       "    </tr>\n",
       "    <tr>\n",
       "      <th>2</th>\n",
       "      <td>I am not primarily a developer, but I write co...</td>\n",
       "      <td>11 - 17 years</td>\n",
       "      <td>3.0</td>\n",
       "    </tr>\n",
       "    <tr>\n",
       "      <th>3</th>\n",
       "      <td>I am a developer by profession</td>\n",
       "      <td>11 - 17 years</td>\n",
       "      <td>3.0</td>\n",
       "    </tr>\n",
       "    <tr>\n",
       "      <th>4</th>\n",
       "      <td>I am a developer by profession</td>\n",
       "      <td>5 - 10 years</td>\n",
       "      <td>2.0</td>\n",
       "    </tr>\n",
       "    <tr>\n",
       "      <th>...</th>\n",
       "      <td>...</td>\n",
       "      <td>...</td>\n",
       "      <td>...</td>\n",
       "    </tr>\n",
       "    <tr>\n",
       "      <th>83434</th>\n",
       "      <td>I am a developer by profession</td>\n",
       "      <td>11 - 17 years</td>\n",
       "      <td>3.0</td>\n",
       "    </tr>\n",
       "    <tr>\n",
       "      <th>83435</th>\n",
       "      <td>I am a developer by profession</td>\n",
       "      <td>11 - 17 years</td>\n",
       "      <td>3.0</td>\n",
       "    </tr>\n",
       "    <tr>\n",
       "      <th>83436</th>\n",
       "      <td>I am a developer by profession</td>\n",
       "      <td>11 - 17 years</td>\n",
       "      <td>3.0</td>\n",
       "    </tr>\n",
       "    <tr>\n",
       "      <th>83437</th>\n",
       "      <td>I am a developer by profession</td>\n",
       "      <td>11 - 17 years</td>\n",
       "      <td>3.0</td>\n",
       "    </tr>\n",
       "    <tr>\n",
       "      <th>83438</th>\n",
       "      <td>I am a developer by profession</td>\n",
       "      <td>11 - 17 years</td>\n",
       "      <td>3.0</td>\n",
       "    </tr>\n",
       "  </tbody>\n",
       "</table>\n",
       "<p>82926 rows × 3 columns</p>\n",
       "</div>"
      ],
      "text/plain": [
       "                                              MainBranch Age_group_1stCode  \\\n",
       "0                         I am a developer by profession     18 - 24 years   \n",
       "1                 I am a student who is learning to code     11 - 17 years   \n",
       "2      I am not primarily a developer, but I write co...     11 - 17 years   \n",
       "3                         I am a developer by profession     11 - 17 years   \n",
       "4                         I am a developer by profession      5 - 10 years   \n",
       "...                                                  ...               ...   \n",
       "83434                     I am a developer by profession     11 - 17 years   \n",
       "83435                     I am a developer by profession     11 - 17 years   \n",
       "83436                     I am a developer by profession     11 - 17 years   \n",
       "83437                     I am a developer by profession     11 - 17 years   \n",
       "83438                     I am a developer by profession     11 - 17 years   \n",
       "\n",
       "       First_codenum  \n",
       "0                4.0  \n",
       "1                3.0  \n",
       "2                3.0  \n",
       "3                3.0  \n",
       "4                2.0  \n",
       "...              ...  \n",
       "83434            3.0  \n",
       "83435            3.0  \n",
       "83436            3.0  \n",
       "83437            3.0  \n",
       "83438            3.0  \n",
       "\n",
       "[82926 rows x 3 columns]"
      ]
     },
     "execution_count": 43,
     "metadata": {},
     "output_type": "execute_result"
    }
   ],
   "source": [
    "#Age_group_1stCode={\"Older than 64 years\":9, \"55 - 64 years\":8, \"45 - 54 years\":7, \"35 - 44 years\":6, \"25 - 34 years\":5, \"18 - 24 years\":4, \"11 - 17 years\":3, \"5 - 10 years\":2, \"Younger than 5 years\":0}   \n",
    "\n",
    "df_age1st['First_codenum']=df_age1st['Age_group_1stCode'].map({\"Older than 64 years\":9, \"55 - 64 years\":8, \"45 - 54 years\":7, \"35 - 44 years\":6, \"25 - 34 years\":5, \"18 - 24 years\":4, \"11 - 17 years\":3, \"5 - 10 years\":2, \"Younger than 5 years\":0})  \n",
    "\n",
    "df_age1st"
   ]
  },
  {
   "cell_type": "code",
   "execution_count": 45,
   "id": "95ade387",
   "metadata": {},
   "outputs": [
    {
     "data": {
      "text/plain": [
       "<AxesSubplot:xlabel='First_codenum', ylabel='MainBranch'>"
      ]
     },
     "execution_count": 45,
     "metadata": {},
     "output_type": "execute_result"
    },
    {
     "data": {
      "image/png": "[encoded data removed]",
      "text/plain": [
       "<Figure size 750x300 with 1 Axes>"
      ]
     },
     "metadata": {
      "needs_background": "light"
     },
     "output_type": "display_data"
    }
   ],
   "source": [
    "\n",
    "from matplotlib.pyplot import figure\n",
    "figure(figsize=(15,6), dpi=50)\n",
    "\n",
    "\n",
    "sns.histplot(df_age1st,x='First_codenum',y='MainBranch',hue=\"Age_group_1stCode\",multiple=\"stack\")"
   ]
  },
  {
   "cell_type": "code",
   "execution_count": 46,
   "id": "c2d10a89",
   "metadata": {
    "scrolled": true
   },
   "outputs": [
    {
     "data": {
      "text/plain": [
       "<seaborn.axisgrid.FacetGrid at 0x1b86b23ff40>"
      ]
     },
     "execution_count": 46,
     "metadata": {},
     "output_type": "execute_result"
    },
    {
     "data": {
      "image/png": "[encoded data removed]",
      "text/plain": [
       "<Figure size 502x360 with 1 Axes>"
      ]
     },
     "metadata": {
      "needs_background": "light"
     },
     "output_type": "display_data"
    }
   ],
   "source": [
    "sns.displot(data=df_age1st, x=\"First_codenum\",hue=\"Age_group_1stCode\", multiple=\"stack\")"
   ]
  },
  {
   "cell_type": "code",
   "execution_count": 47,
   "id": "45a47d5a",
   "metadata": {},
   "outputs": [
    {
     "data": {
      "text/html": [
       "<div>\n",
       "<style scoped>\n",
       "    .dataframe tbody tr th:only-of-type {\n",
       "        vertical-align: middle;\n",
       "    }\n",
       "\n",
       "    .dataframe tbody tr th {\n",
       "        vertical-align: top;\n",
       "    }\n",
       "\n",
       "    .dataframe thead th {\n",
       "        text-align: right;\n",
       "    }\n",
       "</style>\n",
       "<table border=\"1\" class=\"dataframe\">\n",
       "  <thead>\n",
       "    <tr style=\"text-align: right;\">\n",
       "      <th></th>\n",
       "      <th>MainBranch</th>\n",
       "      <th>Age</th>\n",
       "      <th>Employment</th>\n",
       "    </tr>\n",
       "  </thead>\n",
       "  <tbody>\n",
       "    <tr>\n",
       "      <th>0</th>\n",
       "      <td>I am a developer by profession</td>\n",
       "      <td>25-34 years old</td>\n",
       "      <td>Independent contractor, freelancer, or self-em...</td>\n",
       "    </tr>\n",
       "    <tr>\n",
       "      <th>1</th>\n",
       "      <td>I am a student who is learning to code</td>\n",
       "      <td>18-24 years old</td>\n",
       "      <td>Student, full-time</td>\n",
       "    </tr>\n",
       "    <tr>\n",
       "      <th>2</th>\n",
       "      <td>I am not primarily a developer, but I write co...</td>\n",
       "      <td>18-24 years old</td>\n",
       "      <td>Student, full-time</td>\n",
       "    </tr>\n",
       "    <tr>\n",
       "      <th>3</th>\n",
       "      <td>I am a developer by profession</td>\n",
       "      <td>35-44 years old</td>\n",
       "      <td>Employed full-time</td>\n",
       "    </tr>\n",
       "    <tr>\n",
       "      <th>4</th>\n",
       "      <td>I am a developer by profession</td>\n",
       "      <td>25-34 years old</td>\n",
       "      <td>Independent contractor, freelancer, or self-em...</td>\n",
       "    </tr>\n",
       "    <tr>\n",
       "      <th>...</th>\n",
       "      <td>...</td>\n",
       "      <td>...</td>\n",
       "      <td>...</td>\n",
       "    </tr>\n",
       "    <tr>\n",
       "      <th>83434</th>\n",
       "      <td>I am a developer by profession</td>\n",
       "      <td>25-34 years old</td>\n",
       "      <td>Employed full-time</td>\n",
       "    </tr>\n",
       "    <tr>\n",
       "      <th>83435</th>\n",
       "      <td>I am a developer by profession</td>\n",
       "      <td>18-24 years old</td>\n",
       "      <td>Independent contractor, freelancer, or self-em...</td>\n",
       "    </tr>\n",
       "    <tr>\n",
       "      <th>83436</th>\n",
       "      <td>I am a developer by profession</td>\n",
       "      <td>25-34 years old</td>\n",
       "      <td>Employed full-time</td>\n",
       "    </tr>\n",
       "    <tr>\n",
       "      <th>83437</th>\n",
       "      <td>I am a developer by profession</td>\n",
       "      <td>25-34 years old</td>\n",
       "      <td>Employed full-time</td>\n",
       "    </tr>\n",
       "    <tr>\n",
       "      <th>83438</th>\n",
       "      <td>I am a developer by profession</td>\n",
       "      <td>18-24 years old</td>\n",
       "      <td>Employed full-time</td>\n",
       "    </tr>\n",
       "  </tbody>\n",
       "</table>\n",
       "<p>83439 rows × 3 columns</p>\n",
       "</div>"
      ],
      "text/plain": [
       "                                              MainBranch              Age  \\\n",
       "0                         I am a developer by profession  25-34 years old   \n",
       "1                 I am a student who is learning to code  18-24 years old   \n",
       "2      I am not primarily a developer, but I write co...  18-24 years old   \n",
       "3                         I am a developer by profession  35-44 years old   \n",
       "4                         I am a developer by profession  25-34 years old   \n",
       "...                                                  ...              ...   \n",
       "83434                     I am a developer by profession  25-34 years old   \n",
       "83435                     I am a developer by profession  18-24 years old   \n",
       "83436                     I am a developer by profession  25-34 years old   \n",
       "83437                     I am a developer by profession  25-34 years old   \n",
       "83438                     I am a developer by profession  18-24 years old   \n",
       "\n",
       "                                              Employment  \n",
       "0      Independent contractor, freelancer, or self-em...  \n",
       "1                                     Student, full-time  \n",
       "2                                     Student, full-time  \n",
       "3                                     Employed full-time  \n",
       "4      Independent contractor, freelancer, or self-em...  \n",
       "...                                                  ...  \n",
       "83434                                 Employed full-time  \n",
       "83435  Independent contractor, freelancer, or self-em...  \n",
       "83436                                 Employed full-time  \n",
       "83437                                 Employed full-time  \n",
       "83438                                 Employed full-time  \n",
       "\n",
       "[83439 rows x 3 columns]"
      ]
     },
     "execution_count": 47,
     "metadata": {},
     "output_type": "execute_result"
    }
   ],
   "source": [
    "enquiry_df=df[['MainBranch','Age','Employment']]\n",
    "enquiry_df"
   ]
  },
  {
   "cell_type": "markdown",
   "id": "0ec35523",
   "metadata": {
    "id": "avobQUXRnyht"
   },
   "source": [
    "<font color='green'>Step 3: Get the statistical data-types\n",
    "- see https://towardsdatascience.com/an-introduction-to-exploratory-data-analysis-in-python-9a76f04628b8 from ref (2)\n",
    "- see also https://www.youtube.com/watch?v=hZxnzfnt5v8 @58s-3min20s\n",
    "- read the doc about the dataset!\n",
    "</font> "
   ]
  },
  {
   "cell_type": "markdown",
   "id": "0b92138c",
   "metadata": {
    "id": "n2tZiDqzsew9"
   },
   "source": [
    "<font color='green'>Step 4: Get some summary/\"moments\"\n",
    "- see https://www.youtube.com/watch?v=hZxnzfnt5v8 @ 58s - 3min20\n",
    "</font>"
   ]
  },
  {
   "cell_type": "markdown",
   "id": "62d6dcdb",
   "metadata": {
    "id": "XwxfxGpMDnnC"
   },
   "source": []
  },
  {
   "cell_type": "markdown",
   "id": "23dbcef4",
   "metadata": {
    "id": "ly_kqlwUDsOT"
   },
   "source": [
    "<font color='green'>Step 5: Get rid of NAs\n",
    "- if necessary do that in different ways justified by your data\n",
    "</font>"
   ]
  },
  {
   "cell_type": "markdown",
   "id": "fdf27526",
   "metadata": {
    "id": "9_rJ6sHpGaXn"
   },
   "source": [
    "<font color='green'>Step 6: Reformat the dataset\n",
    "- according to fonts, programming language, etc... (parsing step)\n",
    "- feature extraction such as taking the log, dimensionality reduction techniques such as PCA are typically performed separately\n",
    "- should actually happen as Step 2.5\n",
    "</font>"
   ]
  },
  {
   "cell_type": "code",
   "execution_count": null,
   "id": "f78fb6a5",
   "metadata": {
    "colab": {
     "base_uri": "https://localhost:8080/",
     "height": 590
    },
    "id": "lK--JaBFWysl",
    "outputId": "3b5010bf-1655-427a-9853-8801b17cee32"
   },
   "outputs": [],
   "source": []
  },
  {
   "cell_type": "markdown",
   "id": "65f68b75",
   "metadata": {
    "id": "CNROKehe23bX"
   },
   "source": [
    "# Analyze"
   ]
  },
  {
   "cell_type": "markdown",
   "id": "f5befb1b",
   "metadata": {
    "id": "Zf7udZLSJ7uu"
   },
   "source": [
    "<font color='green'>Step 7: generate basic visualizations/ generate hypotheses\n",
    "\n",
    "- “The basic general intent of data analysis\n",
    "is simply stated: to seek through a body of\n",
    "data for interesting relationships and\n",
    "information and to exhibit the results in\n",
    "such a way as to make them recognizable to\n",
    "the data analyzer and recordable for\n",
    "posterity\" J.W.Tukey (3)\n",
    "- see also (5), (6)\n",
    "\n",
    "</font>"
   ]
  },
  {
   "cell_type": "code",
   "execution_count": null,
   "id": "678e8211",
   "metadata": {
    "colab": {
     "base_uri": "https://localhost:8080/"
    },
    "id": "LqrXGAl02xQ1",
    "outputId": "99dd78db-1bbe-4ccf-d2d7-b6d0af17a99a"
   },
   "outputs": [],
   "source": [
    "#df.ed_level.isna().sum()/len(df)*100"
   ]
  },
  {
   "cell_type": "markdown",
   "id": "5dc90324",
   "metadata": {
    "id": "b255TP7eLVvf"
   },
   "source": [
    "<font color='green'>Step 8: Quantify, Test, ML, AI, generate comples plots such as PCA loadings plot...\n",
    "- e.g. https://www.deeplearningbook.org/,\n",
    "- e.g. https://www.youtube.com/watch?v=rulIUAN0U3w (Fisher's exact test; given certain assumptions it is still unbeatable)\n",
    "  - multiple testing (Tukey's post-hoc analysis)\n",
    "  - spurious correlations\n",
    "</font>"
   ]
  },
  {
   "cell_type": "markdown",
   "id": "aaa8dbc6",
   "metadata": {
    "id": "VzqN20dx27qd"
   },
   "source": [
    "# Review"
   ]
  },
  {
   "cell_type": "markdown",
   "id": "1d2c46c0",
   "metadata": {
    "id": "axNSfTHrPnk9"
   },
   "source": [
    "<font color='green'>**Next**\n",
    "- Project\n",
    "- Splunk, PowerBI or Tableau?\n",
    "- Real World Prisoner dataset\n",
    "- Fisher's exact test, ...\n",
    "- supervised vs unsupervised (ML)\n",
    "</font>\n"
   ]
  },
  {
   "cell_type": "code",
   "execution_count": null,
   "id": "19645ed2",
   "metadata": {
    "id": "_Jz9HFjH5aZ8"
   },
   "outputs": [],
   "source": []
  },
  {
   "cell_type": "code",
   "execution_count": null,
   "id": "ffbf2de2",
   "metadata": {},
   "outputs": [],
   "source": []
  }
 ],
 "metadata": {
  "kernelspec": {
   "display_name": "Python 3 (ipykernel)",
   "language": "python",
   "name": "python3"
  },
  "language_info": {
   "codemirror_mode": {
    "name": "ipython",
    "version": 3
   },
   "file_extension": ".py",
   "mimetype": "text/x-python",
   "name": "python",
   "nbconvert_exporter": "python",
   "pygments_lexer": "ipython3",
   "version": "3.8.8"
  }
 },
 "nbformat": 4,
 "nbformat_minor": 5
}
